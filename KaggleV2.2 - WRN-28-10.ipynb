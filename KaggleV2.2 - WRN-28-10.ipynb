{
 "cells": [
  {
   "cell_type": "code",
   "execution_count": 1,
   "metadata": {},
   "outputs": [
    {
     "name": "stderr",
     "output_type": "stream",
     "text": [
      "Using TensorFlow backend.\n"
     ]
    }
   ],
   "source": [
    "import numpy as np\n",
    "import sklearn.metrics as metrics\n",
    "import tensorflow as tf\n",
    "import os, os.path\n",
    "import pandas as pd\n",
    "import math\n",
    "\n",
    "import wide_residual_network_fix_v3 as wrn\n",
    "from keras.datasets import cifar10\n",
    "import keras.callbacks as callbacks\n",
    "import keras.utils.np_utils as kutils\n",
    "from keras.preprocessing.image import ImageDataGenerator\n",
    "from keras.utils import plot_model\n",
    "from keras.optimizers import SGD\n",
    "from keras.callbacks import LearningRateScheduler\n",
    "\n",
    "from keras import backend as K\n",
    "from keras.backend.tensorflow_backend import set_session"
   ]
  },
  {
   "cell_type": "code",
   "execution_count": 2,
   "metadata": {
    "collapsed": true
   },
   "outputs": [],
   "source": [
    "name = 'KaggleV2.2 - WRN-28-10'\n",
    "\n",
    "if not os.path.exists(name):\n",
    "    os.makedirs(name)"
   ]
  },
  {
   "cell_type": "code",
   "execution_count": 3,
   "metadata": {
    "collapsed": true
   },
   "outputs": [],
   "source": [
    "# GPU Memory limitations\n",
    "# config = tf.ConfigProto()\n",
    "# config.gpu_options.per_process_gpu_memory_fraction = 0.8\n",
    "# set_session(tf.Session(config=config))"
   ]
  },
  {
   "cell_type": "code",
   "execution_count": 4,
   "metadata": {
    "collapsed": true
   },
   "outputs": [],
   "source": [
    "lr_schedule = [60, 120, 160] # epoch_step\n",
    "def schedule(epoch_idx):\n",
    "    if (epoch_idx + 1) < lr_schedule[0]:\n",
    "        return 0.1\n",
    "    elif (epoch_idx + 1) < lr_schedule[1]:\n",
    "        return 0.02 # lr_decay_ratio = 0.2\n",
    "    elif (epoch_idx + 1) < lr_schedule[2]:\n",
    "        return 0.004\n",
    "    return 0.0008"
   ]
  },
  {
   "cell_type": "code",
   "execution_count": 5,
   "metadata": {
    "collapsed": true
   },
   "outputs": [],
   "source": [
    "batch_size = 128\n",
    "nb_epoch = 200\n",
    "img_rows, img_cols = 32, 32\n",
    "\n",
    "(trainX, trainY), (testX, testY) = cifar10.load_data()\n",
    "\n",
    "trainX = trainX.astype('float32')\n",
    "trainX /= 255.0\n",
    "testX = testX.astype('float32')\n",
    "testX /= 255.0\n",
    "\n",
    "tempY = testY\n",
    "trainY = kutils.to_categorical(trainY)\n",
    "testY = kutils.to_categorical(testY)\n",
    "\n",
    "generator = ImageDataGenerator(featurewise_center=True,\n",
    "                               featurewise_std_normalization=True,\n",
    "                               rotation_range=10,\n",
    "                               width_shift_range=5./32,\n",
    "                               height_shift_range=5./32,\n",
    "                               horizontal_flip=True)\n",
    "\n",
    "generator.fit(trainX, seed=0, augment=True)\n",
    "\n",
    "test_generator = ImageDataGenerator(featurewise_center=True,\n",
    "                                    featurewise_std_normalization=True)\n",
    "\n",
    "test_generator.fit(testX, seed=0, augment=True)\n"
   ]
  },
  {
   "cell_type": "code",
   "execution_count": 8,
   "metadata": {},
   "outputs": [
    {
     "name": "stdout",
     "output_type": "stream",
     "text": [
      "Wide Residual Network-22-10 created.\n",
      "____________________________________________________________________________________________________\n",
      "Layer (type)                     Output Shape          Param #     Connected to                     \n",
      "====================================================================================================\n",
      "input_3 (InputLayer)             (None, 32, 32, 3)     0                                            \n",
      "____________________________________________________________________________________________________\n",
      "zero_padding2d_15 (ZeroPadding2D (None, 34, 34, 3)     0           input_3[0][0]                    \n",
      "____________________________________________________________________________________________________\n",
      "conv2d_45 (Conv2D)               (None, 34, 34, 16)    448         zero_padding2d_15[0][0]          \n",
      "____________________________________________________________________________________________________\n",
      "batch_normalization_37 (BatchNor (None, 34, 34, 16)    64          conv2d_45[0][0]                  \n",
      "____________________________________________________________________________________________________\n",
      "activation_37 (Activation)       (None, 34, 34, 16)    0           batch_normalization_37[0][0]     \n",
      "____________________________________________________________________________________________________\n",
      "zero_padding2d_16 (ZeroPadding2D (None, 36, 36, 16)    0           activation_37[0][0]              \n",
      "____________________________________________________________________________________________________\n",
      "conv2d_46 (Conv2D)               (None, 34, 34, 160)   23200       zero_padding2d_16[0][0]          \n",
      "____________________________________________________________________________________________________\n",
      "batch_normalization_38 (BatchNor (None, 34, 34, 160)   640         conv2d_46[0][0]                  \n",
      "____________________________________________________________________________________________________\n",
      "activation_38 (Activation)       (None, 34, 34, 160)   0           batch_normalization_38[0][0]     \n",
      "____________________________________________________________________________________________________\n",
      "zero_padding2d_17 (ZeroPadding2D (None, 36, 36, 160)   0           activation_38[0][0]              \n",
      "____________________________________________________________________________________________________\n",
      "conv2d_47 (Conv2D)               (None, 34, 34, 160)   230560      zero_padding2d_17[0][0]          \n",
      "____________________________________________________________________________________________________\n",
      "conv2d_48 (Conv2D)               (None, 34, 34, 160)   2720        activation_37[0][0]              \n",
      "____________________________________________________________________________________________________\n",
      "add_19 (Add)                     (None, 34, 34, 160)   0           conv2d_47[0][0]                  \n",
      "                                                                   conv2d_48[0][0]                  \n",
      "____________________________________________________________________________________________________\n",
      "batch_normalization_39 (BatchNor (None, 34, 34, 160)   640         add_19[0][0]                     \n",
      "____________________________________________________________________________________________________\n",
      "activation_39 (Activation)       (None, 34, 34, 160)   0           batch_normalization_39[0][0]     \n",
      "____________________________________________________________________________________________________\n",
      "conv2d_49 (Conv2D)               (None, 34, 34, 160)   230560      activation_39[0][0]              \n",
      "____________________________________________________________________________________________________\n",
      "batch_normalization_40 (BatchNor (None, 34, 34, 160)   640         conv2d_49[0][0]                  \n",
      "____________________________________________________________________________________________________\n",
      "activation_40 (Activation)       (None, 34, 34, 160)   0           batch_normalization_40[0][0]     \n",
      "____________________________________________________________________________________________________\n",
      "conv2d_50 (Conv2D)               (None, 34, 34, 160)   230560      activation_40[0][0]              \n",
      "____________________________________________________________________________________________________\n",
      "add_20 (Add)                     (None, 34, 34, 160)   0           add_19[0][0]                     \n",
      "                                                                   conv2d_50[0][0]                  \n",
      "____________________________________________________________________________________________________\n",
      "batch_normalization_41 (BatchNor (None, 34, 34, 160)   640         add_20[0][0]                     \n",
      "____________________________________________________________________________________________________\n",
      "activation_41 (Activation)       (None, 34, 34, 160)   0           batch_normalization_41[0][0]     \n",
      "____________________________________________________________________________________________________\n",
      "conv2d_51 (Conv2D)               (None, 34, 34, 160)   230560      activation_41[0][0]              \n",
      "____________________________________________________________________________________________________\n",
      "batch_normalization_42 (BatchNor (None, 34, 34, 160)   640         conv2d_51[0][0]                  \n",
      "____________________________________________________________________________________________________\n",
      "activation_42 (Activation)       (None, 34, 34, 160)   0           batch_normalization_42[0][0]     \n",
      "____________________________________________________________________________________________________\n",
      "conv2d_52 (Conv2D)               (None, 34, 34, 160)   230560      activation_42[0][0]              \n",
      "____________________________________________________________________________________________________\n",
      "add_21 (Add)                     (None, 34, 34, 160)   0           add_20[0][0]                     \n",
      "                                                                   conv2d_52[0][0]                  \n",
      "____________________________________________________________________________________________________\n",
      "batch_normalization_43 (BatchNor (None, 34, 34, 160)   640         add_21[0][0]                     \n",
      "____________________________________________________________________________________________________\n",
      "activation_43 (Activation)       (None, 34, 34, 160)   0           batch_normalization_43[0][0]     \n",
      "____________________________________________________________________________________________________\n",
      "conv2d_53 (Conv2D)               (None, 34, 34, 160)   230560      activation_43[0][0]              \n",
      "____________________________________________________________________________________________________\n",
      "batch_normalization_44 (BatchNor (None, 34, 34, 160)   640         conv2d_53[0][0]                  \n",
      "____________________________________________________________________________________________________\n",
      "activation_44 (Activation)       (None, 34, 34, 160)   0           batch_normalization_44[0][0]     \n",
      "____________________________________________________________________________________________________\n",
      "conv2d_54 (Conv2D)               (None, 34, 34, 160)   230560      activation_44[0][0]              \n",
      "____________________________________________________________________________________________________\n",
      "add_22 (Add)                     (None, 34, 34, 160)   0           add_21[0][0]                     \n",
      "                                                                   conv2d_54[0][0]                  \n",
      "____________________________________________________________________________________________________\n",
      "batch_normalization_45 (BatchNor (None, 34, 34, 160)   640         add_22[0][0]                     \n",
      "____________________________________________________________________________________________________\n",
      "activation_45 (Activation)       (None, 34, 34, 160)   0           batch_normalization_45[0][0]     \n",
      "____________________________________________________________________________________________________\n",
      "zero_padding2d_18 (ZeroPadding2D (None, 36, 36, 160)   0           activation_45[0][0]              \n",
      "____________________________________________________________________________________________________\n",
      "conv2d_55 (Conv2D)               (None, 17, 17, 320)   461120      zero_padding2d_18[0][0]          \n",
      "____________________________________________________________________________________________________\n",
      "batch_normalization_46 (BatchNor (None, 17, 17, 320)   1280        conv2d_55[0][0]                  \n",
      "____________________________________________________________________________________________________\n",
      "activation_46 (Activation)       (None, 17, 17, 320)   0           batch_normalization_46[0][0]     \n",
      "____________________________________________________________________________________________________\n",
      "zero_padding2d_19 (ZeroPadding2D (None, 19, 19, 320)   0           activation_46[0][0]              \n",
      "____________________________________________________________________________________________________\n",
      "conv2d_56 (Conv2D)               (None, 17, 17, 320)   921920      zero_padding2d_19[0][0]          \n",
      "____________________________________________________________________________________________________\n",
      "conv2d_57 (Conv2D)               (None, 17, 17, 320)   51520       activation_45[0][0]              \n",
      "____________________________________________________________________________________________________\n",
      "add_23 (Add)                     (None, 17, 17, 320)   0           conv2d_56[0][0]                  \n",
      "                                                                   conv2d_57[0][0]                  \n",
      "____________________________________________________________________________________________________\n",
      "batch_normalization_47 (BatchNor (None, 17, 17, 320)   1280        add_23[0][0]                     \n",
      "____________________________________________________________________________________________________\n",
      "activation_47 (Activation)       (None, 17, 17, 320)   0           batch_normalization_47[0][0]     \n",
      "____________________________________________________________________________________________________\n",
      "conv2d_58 (Conv2D)               (None, 17, 17, 320)   921920      activation_47[0][0]              \n",
      "____________________________________________________________________________________________________\n",
      "batch_normalization_48 (BatchNor (None, 17, 17, 320)   1280        conv2d_58[0][0]                  \n",
      "____________________________________________________________________________________________________\n",
      "activation_48 (Activation)       (None, 17, 17, 320)   0           batch_normalization_48[0][0]     \n",
      "____________________________________________________________________________________________________\n",
      "conv2d_59 (Conv2D)               (None, 17, 17, 320)   921920      activation_48[0][0]              \n",
      "____________________________________________________________________________________________________\n",
      "add_24 (Add)                     (None, 17, 17, 320)   0           add_23[0][0]                     \n",
      "                                                                   conv2d_59[0][0]                  \n",
      "____________________________________________________________________________________________________\n",
      "batch_normalization_49 (BatchNor (None, 17, 17, 320)   1280        add_24[0][0]                     \n",
      "____________________________________________________________________________________________________\n",
      "activation_49 (Activation)       (None, 17, 17, 320)   0           batch_normalization_49[0][0]     \n",
      "____________________________________________________________________________________________________\n",
      "conv2d_60 (Conv2D)               (None, 17, 17, 320)   921920      activation_49[0][0]              \n",
      "____________________________________________________________________________________________________\n",
      "batch_normalization_50 (BatchNor (None, 17, 17, 320)   1280        conv2d_60[0][0]                  \n",
      "____________________________________________________________________________________________________\n",
      "activation_50 (Activation)       (None, 17, 17, 320)   0           batch_normalization_50[0][0]     \n",
      "____________________________________________________________________________________________________\n",
      "conv2d_61 (Conv2D)               (None, 17, 17, 320)   921920      activation_50[0][0]              \n",
      "____________________________________________________________________________________________________\n",
      "add_25 (Add)                     (None, 17, 17, 320)   0           add_24[0][0]                     \n",
      "                                                                   conv2d_61[0][0]                  \n",
      "____________________________________________________________________________________________________\n",
      "batch_normalization_51 (BatchNor (None, 17, 17, 320)   1280        add_25[0][0]                     \n",
      "____________________________________________________________________________________________________\n",
      "activation_51 (Activation)       (None, 17, 17, 320)   0           batch_normalization_51[0][0]     \n",
      "____________________________________________________________________________________________________\n",
      "conv2d_62 (Conv2D)               (None, 17, 17, 320)   921920      activation_51[0][0]              \n",
      "____________________________________________________________________________________________________\n",
      "batch_normalization_52 (BatchNor (None, 17, 17, 320)   1280        conv2d_62[0][0]                  \n",
      "____________________________________________________________________________________________________\n",
      "activation_52 (Activation)       (None, 17, 17, 320)   0           batch_normalization_52[0][0]     \n",
      "____________________________________________________________________________________________________\n",
      "conv2d_63 (Conv2D)               (None, 17, 17, 320)   921920      activation_52[0][0]              \n",
      "____________________________________________________________________________________________________\n",
      "add_26 (Add)                     (None, 17, 17, 320)   0           add_25[0][0]                     \n",
      "                                                                   conv2d_63[0][0]                  \n",
      "____________________________________________________________________________________________________\n",
      "batch_normalization_53 (BatchNor (None, 17, 17, 320)   1280        add_26[0][0]                     \n",
      "____________________________________________________________________________________________________\n",
      "activation_53 (Activation)       (None, 17, 17, 320)   0           batch_normalization_53[0][0]     \n",
      "____________________________________________________________________________________________________\n",
      "zero_padding2d_20 (ZeroPadding2D (None, 19, 19, 320)   0           activation_53[0][0]              \n",
      "____________________________________________________________________________________________________\n",
      "conv2d_64 (Conv2D)               (None, 9, 9, 640)     1843840     zero_padding2d_20[0][0]          \n",
      "____________________________________________________________________________________________________\n",
      "batch_normalization_54 (BatchNor (None, 9, 9, 640)     2560        conv2d_64[0][0]                  \n",
      "____________________________________________________________________________________________________\n",
      "activation_54 (Activation)       (None, 9, 9, 640)     0           batch_normalization_54[0][0]     \n",
      "____________________________________________________________________________________________________\n",
      "zero_padding2d_21 (ZeroPadding2D (None, 11, 11, 640)   0           activation_54[0][0]              \n",
      "____________________________________________________________________________________________________\n",
      "conv2d_65 (Conv2D)               (None, 9, 9, 640)     3687040     zero_padding2d_21[0][0]          \n",
      "____________________________________________________________________________________________________\n",
      "conv2d_66 (Conv2D)               (None, 9, 9, 640)     205440      activation_53[0][0]              \n",
      "____________________________________________________________________________________________________\n",
      "add_27 (Add)                     (None, 9, 9, 640)     0           conv2d_65[0][0]                  \n",
      "                                                                   conv2d_66[0][0]                  \n",
      "____________________________________________________________________________________________________\n",
      "batch_normalization_55 (BatchNor (None, 9, 9, 640)     2560        add_27[0][0]                     \n",
      "____________________________________________________________________________________________________\n",
      "activation_55 (Activation)       (None, 9, 9, 640)     0           batch_normalization_55[0][0]     \n",
      "____________________________________________________________________________________________________\n",
      "conv2d_67 (Conv2D)               (None, 9, 9, 640)     3687040     activation_55[0][0]              \n",
      "____________________________________________________________________________________________________\n",
      "batch_normalization_56 (BatchNor (None, 9, 9, 640)     2560        conv2d_67[0][0]                  \n",
      "____________________________________________________________________________________________________\n",
      "activation_56 (Activation)       (None, 9, 9, 640)     0           batch_normalization_56[0][0]     \n",
      "____________________________________________________________________________________________________\n",
      "conv2d_68 (Conv2D)               (None, 9, 9, 640)     3687040     activation_56[0][0]              \n",
      "____________________________________________________________________________________________________\n",
      "add_28 (Add)                     (None, 9, 9, 640)     0           add_27[0][0]                     \n",
      "                                                                   conv2d_68[0][0]                  \n",
      "____________________________________________________________________________________________________\n",
      "batch_normalization_57 (BatchNor (None, 9, 9, 640)     2560        add_28[0][0]                     \n",
      "____________________________________________________________________________________________________\n",
      "activation_57 (Activation)       (None, 9, 9, 640)     0           batch_normalization_57[0][0]     \n",
      "____________________________________________________________________________________________________\n",
      "conv2d_69 (Conv2D)               (None, 9, 9, 640)     3687040     activation_57[0][0]              \n",
      "____________________________________________________________________________________________________\n",
      "batch_normalization_58 (BatchNor (None, 9, 9, 640)     2560        conv2d_69[0][0]                  \n",
      "____________________________________________________________________________________________________\n",
      "activation_58 (Activation)       (None, 9, 9, 640)     0           batch_normalization_58[0][0]     \n",
      "____________________________________________________________________________________________________\n",
      "conv2d_70 (Conv2D)               (None, 9, 9, 640)     3687040     activation_58[0][0]              \n",
      "____________________________________________________________________________________________________\n",
      "add_29 (Add)                     (None, 9, 9, 640)     0           add_28[0][0]                     \n",
      "                                                                   conv2d_70[0][0]                  \n",
      "____________________________________________________________________________________________________\n",
      "batch_normalization_59 (BatchNor (None, 9, 9, 640)     2560        add_29[0][0]                     \n",
      "____________________________________________________________________________________________________\n",
      "activation_59 (Activation)       (None, 9, 9, 640)     0           batch_normalization_59[0][0]     \n",
      "____________________________________________________________________________________________________\n",
      "conv2d_71 (Conv2D)               (None, 9, 9, 640)     3687040     activation_59[0][0]              \n",
      "____________________________________________________________________________________________________\n",
      "batch_normalization_60 (BatchNor (None, 9, 9, 640)     2560        conv2d_71[0][0]                  \n",
      "____________________________________________________________________________________________________\n",
      "activation_60 (Activation)       (None, 9, 9, 640)     0           batch_normalization_60[0][0]     \n",
      "____________________________________________________________________________________________________\n",
      "conv2d_72 (Conv2D)               (None, 9, 9, 640)     3687040     activation_60[0][0]              \n",
      "____________________________________________________________________________________________________\n",
      "add_30 (Add)                     (None, 9, 9, 640)     0           add_29[0][0]                     \n",
      "                                                                   conv2d_72[0][0]                  \n",
      "____________________________________________________________________________________________________\n",
      "average_pooling2d_3 (AveragePool (None, 1, 1, 640)     0           add_30[0][0]                     \n",
      "____________________________________________________________________________________________________\n",
      "flatten_3 (Flatten)              (None, 640)           0           average_pooling2d_3[0][0]        \n",
      "____________________________________________________________________________________________________\n",
      "dense_3 (Dense)                  (None, 10)            6410        flatten_3[0][0]                  \n",
      "====================================================================================================\n",
      "Total params: 36,504,682\n",
      "Trainable params: 36,488,010\n",
      "Non-trainable params: 16,672\n",
      "____________________________________________________________________________________________________\n"
     ]
    },
    {
     "name": "stdout",
     "output_type": "stream",
     "text": [
      "Finished compiling\n",
      "Allocating GPU memory\n",
      "Model loaded.\n"
     ]
    }
   ],
   "source": [
    "# For WRN-16-8 put N = 2, k = 8\n",
    "# For WRN-28-10 put N = 4, k = 10\n",
    "# For WRN-40-4 put N = 6, k = 4\n",
    "init_shape = (3, 32, 32) if 0 == 'th' else (32, 32, 3)\n",
    "model = wrn.create_wide_residual_network(init_shape, nb_classes=10, N=4, k=10, dropout=0.0)\n",
    "\n",
    "model.summary()\n",
    "plot_model(model, \"WRN-28-10.png\", show_shapes=True)\n",
    "\n",
    "opt = SGD(lr=0.01, momentum=0.9, nesterov=True, decay=0.0005)\n",
    "\n",
    "model.compile(loss=\"categorical_crossentropy\", optimizer=opt, metrics=[\"acc\"])\n",
    "print(\"Finished compiling\")\n",
    "print(\"Allocating GPU memory\")\n",
    "\n",
    "# model.load_weights(name + '/WRN-28-10 Weights-hand_saved_FULL.h5')\n",
    "print(\"Model loaded.\")"
   ]
  },
  {
   "cell_type": "code",
   "execution_count": 9,
   "metadata": {
    "collapsed": true
   },
   "outputs": [],
   "source": [
    "# Callbacks\n",
    "csv_logger = callbacks.CSVLogger(name + '/log.csv', append=True, separator=';')\n",
    "save_c = callbacks.ModelCheckpoint(name + '/WRN-28-10 Weights.h5', monitor=\"val_acc\", save_best_only=True)\n",
    "lrs = LearningRateScheduler(schedule=schedule)"
   ]
  },
  {
   "cell_type": "code",
   "execution_count": 10,
   "metadata": {},
   "outputs": [
    {
     "name": "stderr",
     "output_type": "stream",
     "text": [
      "c:\\users\\intel\\anaconda3\\envs\\ml\\lib\\site-packages\\ipykernel_launcher.py:4: UserWarning: The semantics of the Keras 2 argument `steps_per_epoch` is not the same as the Keras 1 argument `samples_per_epoch`. `steps_per_epoch` is the number of batches to draw from the generator at each epoch. Basically steps_per_epoch = samples_per_epoch/batch_size. Similarly `nb_val_samples`->`validation_steps` and `val_samples`->`steps` arguments have changed. Update your method calls accordingly.\n",
      "  after removing the cwd from sys.path.\n",
      "c:\\users\\intel\\anaconda3\\envs\\ml\\lib\\site-packages\\ipykernel_launcher.py:4: UserWarning: Update your `fit_generator` call to the Keras 2 API: `fit_generator(<keras.pre..., validation_data=<keras.pre..., steps_per_epoch=391, validation_steps=79, epochs=200, callbacks=[<keras.ca...)`\n",
      "  after removing the cwd from sys.path.\n"
     ]
    },
    {
     "name": "stdout",
     "output_type": "stream",
     "text": [
      "Epoch 1/200\n",
      "391/391 [==============================] - 556s - loss: 14.4783 - acc: 0.0998 - val_loss: 14.5063 - val_acc: 0.1000\n",
      "Epoch 2/200\n",
      "214/391 [===============>..............] - ETA: 231s - loss: 14.5129 - acc: 0.0996"
     ]
    },
    {
     "ename": "KeyboardInterrupt",
     "evalue": "",
     "output_type": "error",
     "traceback": [
      "\u001b[1;31m---------------------------------------------------------------------------\u001b[0m",
      "\u001b[1;31mKeyboardInterrupt\u001b[0m                         Traceback (most recent call last)",
      "\u001b[1;32m<ipython-input-10-453baa3f6b4c>\u001b[0m in \u001b[0;36m<module>\u001b[1;34m()\u001b[0m\n\u001b[0;32m      2\u001b[0m                    \u001b[0mcallbacks\u001b[0m\u001b[1;33m=\u001b[0m\u001b[1;33m[\u001b[0m\u001b[0mcsv_logger\u001b[0m\u001b[1;33m,\u001b[0m \u001b[0msave_c\u001b[0m\u001b[1;33m,\u001b[0m \u001b[0mlrs\u001b[0m\u001b[1;33m]\u001b[0m\u001b[1;33m,\u001b[0m\u001b[1;33m\u001b[0m\u001b[0m\n\u001b[0;32m      3\u001b[0m                    \u001b[0mvalidation_data\u001b[0m\u001b[1;33m=\u001b[0m\u001b[0mtest_generator\u001b[0m\u001b[1;33m.\u001b[0m\u001b[0mflow\u001b[0m\u001b[1;33m(\u001b[0m\u001b[0mtestX\u001b[0m\u001b[1;33m,\u001b[0m \u001b[0mtestY\u001b[0m\u001b[1;33m,\u001b[0m \u001b[0mbatch_size\u001b[0m\u001b[1;33m=\u001b[0m\u001b[0mbatch_size\u001b[0m\u001b[1;33m)\u001b[0m\u001b[1;33m,\u001b[0m\u001b[1;33m\u001b[0m\u001b[0m\n\u001b[1;32m----> 4\u001b[1;33m                    validation_steps=testX.shape[0] // batch_size + 1,)\n\u001b[0m\u001b[0;32m      5\u001b[0m \u001b[1;33m\u001b[0m\u001b[0m\n\u001b[0;32m      6\u001b[0m \u001b[0mscores\u001b[0m \u001b[1;33m=\u001b[0m \u001b[0mmodel\u001b[0m\u001b[1;33m.\u001b[0m\u001b[0mevaluate_generator\u001b[0m\u001b[1;33m(\u001b[0m\u001b[0mtest_generator\u001b[0m\u001b[1;33m.\u001b[0m\u001b[0mflow\u001b[0m\u001b[1;33m(\u001b[0m\u001b[0mtestX\u001b[0m\u001b[1;33m,\u001b[0m \u001b[0mtestY\u001b[0m\u001b[1;33m,\u001b[0m \u001b[0mnb_epoch\u001b[0m\u001b[1;33m)\u001b[0m\u001b[1;33m,\u001b[0m \u001b[0mtestX\u001b[0m\u001b[1;33m.\u001b[0m\u001b[0mshape\u001b[0m\u001b[1;33m[\u001b[0m\u001b[1;36m0\u001b[0m\u001b[1;33m]\u001b[0m \u001b[1;33m//\u001b[0m \u001b[0mbatch_size\u001b[0m \u001b[1;33m+\u001b[0m \u001b[1;36m1\u001b[0m\u001b[1;33m)\u001b[0m\u001b[1;33m\u001b[0m\u001b[0m\n",
      "\u001b[1;32mc:\\users\\intel\\anaconda3\\envs\\ml\\lib\\site-packages\\keras\\legacy\\interfaces.py\u001b[0m in \u001b[0;36mwrapper\u001b[1;34m(*args, **kwargs)\u001b[0m\n\u001b[0;32m     85\u001b[0m                 warnings.warn('Update your `' + object_name +\n\u001b[0;32m     86\u001b[0m                               '` call to the Keras 2 API: ' + signature, stacklevel=2)\n\u001b[1;32m---> 87\u001b[1;33m             \u001b[1;32mreturn\u001b[0m \u001b[0mfunc\u001b[0m\u001b[1;33m(\u001b[0m\u001b[1;33m*\u001b[0m\u001b[0margs\u001b[0m\u001b[1;33m,\u001b[0m \u001b[1;33m**\u001b[0m\u001b[0mkwargs\u001b[0m\u001b[1;33m)\u001b[0m\u001b[1;33m\u001b[0m\u001b[0m\n\u001b[0m\u001b[0;32m     88\u001b[0m         \u001b[0mwrapper\u001b[0m\u001b[1;33m.\u001b[0m\u001b[0m_original_function\u001b[0m \u001b[1;33m=\u001b[0m \u001b[0mfunc\u001b[0m\u001b[1;33m\u001b[0m\u001b[0m\n\u001b[0;32m     89\u001b[0m         \u001b[1;32mreturn\u001b[0m \u001b[0mwrapper\u001b[0m\u001b[1;33m\u001b[0m\u001b[0m\n",
      "\u001b[1;32mc:\\users\\intel\\anaconda3\\envs\\ml\\lib\\site-packages\\keras\\engine\\training.py\u001b[0m in \u001b[0;36mfit_generator\u001b[1;34m(self, generator, steps_per_epoch, epochs, verbose, callbacks, validation_data, validation_steps, class_weight, max_queue_size, workers, use_multiprocessing, initial_epoch)\u001b[0m\n\u001b[0;32m   1838\u001b[0m                     outs = self.train_on_batch(x, y,\n\u001b[0;32m   1839\u001b[0m                                                \u001b[0msample_weight\u001b[0m\u001b[1;33m=\u001b[0m\u001b[0msample_weight\u001b[0m\u001b[1;33m,\u001b[0m\u001b[1;33m\u001b[0m\u001b[0m\n\u001b[1;32m-> 1840\u001b[1;33m                                                class_weight=class_weight)\n\u001b[0m\u001b[0;32m   1841\u001b[0m \u001b[1;33m\u001b[0m\u001b[0m\n\u001b[0;32m   1842\u001b[0m                     \u001b[1;32mif\u001b[0m \u001b[1;32mnot\u001b[0m \u001b[0misinstance\u001b[0m\u001b[1;33m(\u001b[0m\u001b[0mouts\u001b[0m\u001b[1;33m,\u001b[0m \u001b[0mlist\u001b[0m\u001b[1;33m)\u001b[0m\u001b[1;33m:\u001b[0m\u001b[1;33m\u001b[0m\u001b[0m\n",
      "\u001b[1;32mc:\\users\\intel\\anaconda3\\envs\\ml\\lib\\site-packages\\keras\\engine\\training.py\u001b[0m in \u001b[0;36mtrain_on_batch\u001b[1;34m(self, x, y, sample_weight, class_weight)\u001b[0m\n\u001b[0;32m   1563\u001b[0m             \u001b[0mins\u001b[0m \u001b[1;33m=\u001b[0m \u001b[0mx\u001b[0m \u001b[1;33m+\u001b[0m \u001b[0my\u001b[0m \u001b[1;33m+\u001b[0m \u001b[0msample_weights\u001b[0m\u001b[1;33m\u001b[0m\u001b[0m\n\u001b[0;32m   1564\u001b[0m         \u001b[0mself\u001b[0m\u001b[1;33m.\u001b[0m\u001b[0m_make_train_function\u001b[0m\u001b[1;33m(\u001b[0m\u001b[1;33m)\u001b[0m\u001b[1;33m\u001b[0m\u001b[0m\n\u001b[1;32m-> 1565\u001b[1;33m         \u001b[0moutputs\u001b[0m \u001b[1;33m=\u001b[0m \u001b[0mself\u001b[0m\u001b[1;33m.\u001b[0m\u001b[0mtrain_function\u001b[0m\u001b[1;33m(\u001b[0m\u001b[0mins\u001b[0m\u001b[1;33m)\u001b[0m\u001b[1;33m\u001b[0m\u001b[0m\n\u001b[0m\u001b[0;32m   1566\u001b[0m         \u001b[1;32mif\u001b[0m \u001b[0mlen\u001b[0m\u001b[1;33m(\u001b[0m\u001b[0moutputs\u001b[0m\u001b[1;33m)\u001b[0m \u001b[1;33m==\u001b[0m \u001b[1;36m1\u001b[0m\u001b[1;33m:\u001b[0m\u001b[1;33m\u001b[0m\u001b[0m\n\u001b[0;32m   1567\u001b[0m             \u001b[1;32mreturn\u001b[0m \u001b[0moutputs\u001b[0m\u001b[1;33m[\u001b[0m\u001b[1;36m0\u001b[0m\u001b[1;33m]\u001b[0m\u001b[1;33m\u001b[0m\u001b[0m\n",
      "\u001b[1;32mc:\\users\\intel\\anaconda3\\envs\\ml\\lib\\site-packages\\keras\\backend\\tensorflow_backend.py\u001b[0m in \u001b[0;36m__call__\u001b[1;34m(self, inputs)\u001b[0m\n\u001b[0;32m   2266\u001b[0m         updated = session.run(self.outputs + [self.updates_op],\n\u001b[0;32m   2267\u001b[0m                               \u001b[0mfeed_dict\u001b[0m\u001b[1;33m=\u001b[0m\u001b[0mfeed_dict\u001b[0m\u001b[1;33m,\u001b[0m\u001b[1;33m\u001b[0m\u001b[0m\n\u001b[1;32m-> 2268\u001b[1;33m                               **self.session_kwargs)\n\u001b[0m\u001b[0;32m   2269\u001b[0m         \u001b[1;32mreturn\u001b[0m \u001b[0mupdated\u001b[0m\u001b[1;33m[\u001b[0m\u001b[1;33m:\u001b[0m\u001b[0mlen\u001b[0m\u001b[1;33m(\u001b[0m\u001b[0mself\u001b[0m\u001b[1;33m.\u001b[0m\u001b[0moutputs\u001b[0m\u001b[1;33m)\u001b[0m\u001b[1;33m]\u001b[0m\u001b[1;33m\u001b[0m\u001b[0m\n\u001b[0;32m   2270\u001b[0m \u001b[1;33m\u001b[0m\u001b[0m\n",
      "\u001b[1;32mc:\\users\\intel\\anaconda3\\envs\\ml\\lib\\site-packages\\tensorflow\\python\\client\\session.py\u001b[0m in \u001b[0;36mrun\u001b[1;34m(self, fetches, feed_dict, options, run_metadata)\u001b[0m\n\u001b[0;32m    787\u001b[0m     \u001b[1;32mtry\u001b[0m\u001b[1;33m:\u001b[0m\u001b[1;33m\u001b[0m\u001b[0m\n\u001b[0;32m    788\u001b[0m       result = self._run(None, fetches, feed_dict, options_ptr,\n\u001b[1;32m--> 789\u001b[1;33m                          run_metadata_ptr)\n\u001b[0m\u001b[0;32m    790\u001b[0m       \u001b[1;32mif\u001b[0m \u001b[0mrun_metadata\u001b[0m\u001b[1;33m:\u001b[0m\u001b[1;33m\u001b[0m\u001b[0m\n\u001b[0;32m    791\u001b[0m         \u001b[0mproto_data\u001b[0m \u001b[1;33m=\u001b[0m \u001b[0mtf_session\u001b[0m\u001b[1;33m.\u001b[0m\u001b[0mTF_GetBuffer\u001b[0m\u001b[1;33m(\u001b[0m\u001b[0mrun_metadata_ptr\u001b[0m\u001b[1;33m)\u001b[0m\u001b[1;33m\u001b[0m\u001b[0m\n",
      "\u001b[1;32mc:\\users\\intel\\anaconda3\\envs\\ml\\lib\\site-packages\\tensorflow\\python\\client\\session.py\u001b[0m in \u001b[0;36m_run\u001b[1;34m(self, handle, fetches, feed_dict, options, run_metadata)\u001b[0m\n\u001b[0;32m    995\u001b[0m     \u001b[1;32mif\u001b[0m \u001b[0mfinal_fetches\u001b[0m \u001b[1;32mor\u001b[0m \u001b[0mfinal_targets\u001b[0m\u001b[1;33m:\u001b[0m\u001b[1;33m\u001b[0m\u001b[0m\n\u001b[0;32m    996\u001b[0m       results = self._do_run(handle, final_targets, final_fetches,\n\u001b[1;32m--> 997\u001b[1;33m                              feed_dict_string, options, run_metadata)\n\u001b[0m\u001b[0;32m    998\u001b[0m     \u001b[1;32melse\u001b[0m\u001b[1;33m:\u001b[0m\u001b[1;33m\u001b[0m\u001b[0m\n\u001b[0;32m    999\u001b[0m       \u001b[0mresults\u001b[0m \u001b[1;33m=\u001b[0m \u001b[1;33m[\u001b[0m\u001b[1;33m]\u001b[0m\u001b[1;33m\u001b[0m\u001b[0m\n",
      "\u001b[1;32mc:\\users\\intel\\anaconda3\\envs\\ml\\lib\\site-packages\\tensorflow\\python\\client\\session.py\u001b[0m in \u001b[0;36m_do_run\u001b[1;34m(self, handle, target_list, fetch_list, feed_dict, options, run_metadata)\u001b[0m\n\u001b[0;32m   1130\u001b[0m     \u001b[1;32mif\u001b[0m \u001b[0mhandle\u001b[0m \u001b[1;32mis\u001b[0m \u001b[1;32mNone\u001b[0m\u001b[1;33m:\u001b[0m\u001b[1;33m\u001b[0m\u001b[0m\n\u001b[0;32m   1131\u001b[0m       return self._do_call(_run_fn, self._session, feed_dict, fetch_list,\n\u001b[1;32m-> 1132\u001b[1;33m                            target_list, options, run_metadata)\n\u001b[0m\u001b[0;32m   1133\u001b[0m     \u001b[1;32melse\u001b[0m\u001b[1;33m:\u001b[0m\u001b[1;33m\u001b[0m\u001b[0m\n\u001b[0;32m   1134\u001b[0m       return self._do_call(_prun_fn, self._session, handle, feed_dict,\n",
      "\u001b[1;32mc:\\users\\intel\\anaconda3\\envs\\ml\\lib\\site-packages\\tensorflow\\python\\client\\session.py\u001b[0m in \u001b[0;36m_do_call\u001b[1;34m(self, fn, *args)\u001b[0m\n\u001b[0;32m   1137\u001b[0m   \u001b[1;32mdef\u001b[0m \u001b[0m_do_call\u001b[0m\u001b[1;33m(\u001b[0m\u001b[0mself\u001b[0m\u001b[1;33m,\u001b[0m \u001b[0mfn\u001b[0m\u001b[1;33m,\u001b[0m \u001b[1;33m*\u001b[0m\u001b[0margs\u001b[0m\u001b[1;33m)\u001b[0m\u001b[1;33m:\u001b[0m\u001b[1;33m\u001b[0m\u001b[0m\n\u001b[0;32m   1138\u001b[0m     \u001b[1;32mtry\u001b[0m\u001b[1;33m:\u001b[0m\u001b[1;33m\u001b[0m\u001b[0m\n\u001b[1;32m-> 1139\u001b[1;33m       \u001b[1;32mreturn\u001b[0m \u001b[0mfn\u001b[0m\u001b[1;33m(\u001b[0m\u001b[1;33m*\u001b[0m\u001b[0margs\u001b[0m\u001b[1;33m)\u001b[0m\u001b[1;33m\u001b[0m\u001b[0m\n\u001b[0m\u001b[0;32m   1140\u001b[0m     \u001b[1;32mexcept\u001b[0m \u001b[0merrors\u001b[0m\u001b[1;33m.\u001b[0m\u001b[0mOpError\u001b[0m \u001b[1;32mas\u001b[0m \u001b[0me\u001b[0m\u001b[1;33m:\u001b[0m\u001b[1;33m\u001b[0m\u001b[0m\n\u001b[0;32m   1141\u001b[0m       \u001b[0mmessage\u001b[0m \u001b[1;33m=\u001b[0m \u001b[0mcompat\u001b[0m\u001b[1;33m.\u001b[0m\u001b[0mas_text\u001b[0m\u001b[1;33m(\u001b[0m\u001b[0me\u001b[0m\u001b[1;33m.\u001b[0m\u001b[0mmessage\u001b[0m\u001b[1;33m)\u001b[0m\u001b[1;33m\u001b[0m\u001b[0m\n",
      "\u001b[1;32mc:\\users\\intel\\anaconda3\\envs\\ml\\lib\\site-packages\\tensorflow\\python\\client\\session.py\u001b[0m in \u001b[0;36m_run_fn\u001b[1;34m(session, feed_dict, fetch_list, target_list, options, run_metadata)\u001b[0m\n\u001b[0;32m   1119\u001b[0m         return tf_session.TF_Run(session, options,\n\u001b[0;32m   1120\u001b[0m                                  \u001b[0mfeed_dict\u001b[0m\u001b[1;33m,\u001b[0m \u001b[0mfetch_list\u001b[0m\u001b[1;33m,\u001b[0m \u001b[0mtarget_list\u001b[0m\u001b[1;33m,\u001b[0m\u001b[1;33m\u001b[0m\u001b[0m\n\u001b[1;32m-> 1121\u001b[1;33m                                  status, run_metadata)\n\u001b[0m\u001b[0;32m   1122\u001b[0m \u001b[1;33m\u001b[0m\u001b[0m\n\u001b[0;32m   1123\u001b[0m     \u001b[1;32mdef\u001b[0m \u001b[0m_prun_fn\u001b[0m\u001b[1;33m(\u001b[0m\u001b[0msession\u001b[0m\u001b[1;33m,\u001b[0m \u001b[0mhandle\u001b[0m\u001b[1;33m,\u001b[0m \u001b[0mfeed_dict\u001b[0m\u001b[1;33m,\u001b[0m \u001b[0mfetch_list\u001b[0m\u001b[1;33m)\u001b[0m\u001b[1;33m:\u001b[0m\u001b[1;33m\u001b[0m\u001b[0m\n",
      "\u001b[1;31mKeyboardInterrupt\u001b[0m: "
     ]
    }
   ],
   "source": [
    "model.fit_generator(generator.flow(trainX, trainY, batch_size=batch_size), steps_per_epoch=len(trainX) // batch_size + 1, nb_epoch=nb_epoch,\n",
    "                   callbacks=[csv_logger, save_c, lrs],\n",
    "                   validation_data=test_generator.flow(testX, testY, batch_size=batch_size),\n",
    "                   validation_steps=testX.shape[0] // batch_size + 1,)\n",
    "\n",
    "scores = model.evaluate_generator(test_generator.flow(testX, testY, nb_epoch), testX.shape[0] // batch_size + 1)\n",
    "print(\"Accuracy = %f\" % (100 * scores[1]))"
   ]
  },
  {
   "cell_type": "code",
   "execution_count": null,
   "metadata": {
    "collapsed": true
   },
   "outputs": [],
   "source": []
  },
  {
   "cell_type": "code",
   "execution_count": null,
   "metadata": {
    "collapsed": true
   },
   "outputs": [],
   "source": []
  },
  {
   "cell_type": "code",
   "execution_count": null,
   "metadata": {
    "collapsed": true
   },
   "outputs": [],
   "source": []
  },
  {
   "cell_type": "code",
   "execution_count": null,
   "metadata": {
    "collapsed": true
   },
   "outputs": [],
   "source": []
  },
  {
   "cell_type": "code",
   "execution_count": 49,
   "metadata": {
    "collapsed": true
   },
   "outputs": [],
   "source": [
    "def submitFile(modelFile, saveFile, model):\n",
    "    model.load_weights(modelFile)\n",
    "    test_x = np.load('All images.npy')\n",
    "    test_x = test_x[1]/255.\n",
    "    bs = 100\n",
    "    steps = math.ceil(int(test_x.shape[0])/bs)\n",
    "    print (\"Steps - \" + str(steps))\n",
    "    pred = model.predict_generator(test_generator.flow(test_x, batch_size=bs, shuffle=False), steps=steps)\n",
    "    y_pred = np.argmax(pred, axis=1)\n",
    "    labels = labelsToStrings(y_pred)\n",
    "    labels.to_csv(saveFile)"
   ]
  },
  {
   "cell_type": "code",
   "execution_count": 50,
   "metadata": {
    "collapsed": true
   },
   "outputs": [],
   "source": [
    "def labelsToStrings(data):\n",
    "    ret = []\n",
    "    for label in data:\n",
    "        temp = ''\n",
    "        \n",
    "        if(label == 0): temp = 'airplane'\n",
    "        if(label == 1): temp = 'automobile'\n",
    "        if(label == 2): temp = 'bird'\n",
    "        if(label == 3): temp = 'cat'\n",
    "        if(label == 4): temp = 'deer'\n",
    "        if(label == 5): temp = 'dog'\n",
    "        if(label == 6): temp = 'frog'\n",
    "        if(label == 7): temp = 'horse'\n",
    "        if(label == 8): temp = 'ship'\n",
    "        if(label == 9): temp = 'truck'\n",
    "        \n",
    "        ret.append(temp)\n",
    "    \n",
    "    label_id = np.arange(data.shape[0]) + 1\n",
    "    s = pd.Series(ret, index=label_id)\n",
    "    s = s.to_frame('label')\n",
    "    s.index.name='id'\n",
    "    \n",
    "    return s"
   ]
  },
  {
   "cell_type": "code",
   "execution_count": 51,
   "metadata": {},
   "outputs": [
    {
     "name": "stdout",
     "output_type": "stream",
     "text": [
      "Steps - 3000\n"
     ]
    }
   ],
   "source": [
    "# submitFile(modelFile=name + '/WRN-28-10 Weights.h5', saveFile='cifar10_submit_V2.0.2.csv', model=model)"
   ]
  },
  {
   "cell_type": "code",
   "execution_count": 8,
   "metadata": {
    "collapsed": true
   },
   "outputs": [],
   "source": [
    "# model.save_weights(name + '/WRN-28-8 Weights-hand_saved.h5')"
   ]
  },
  {
   "cell_type": "code",
   "execution_count": 18,
   "metadata": {
    "collapsed": true
   },
   "outputs": [],
   "source": [
    "# model.save(name + '/WRN-16-2 Weights-hand_saved_FULL.h5')"
   ]
  },
  {
   "cell_type": "code",
   "execution_count": null,
   "metadata": {
    "collapsed": true
   },
   "outputs": [],
   "source": []
  }
 ],
 "metadata": {
  "kernelspec": {
   "display_name": "Python 3",
   "language": "python",
   "name": "python3"
  },
  "language_info": {
   "codemirror_mode": {
    "name": "ipython",
    "version": 3
   },
   "file_extension": ".py",
   "mimetype": "text/x-python",
   "name": "python",
   "nbconvert_exporter": "python",
   "pygments_lexer": "ipython3",
   "version": "3.5.3"
  }
 },
 "nbformat": 4,
 "nbformat_minor": 2
}
